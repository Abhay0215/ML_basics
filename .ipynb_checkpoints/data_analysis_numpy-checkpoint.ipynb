{
 "cells": [
  {
   "cell_type": "code",
   "execution_count": 1,
   "id": "5a35d72c-b8b8-48b4-820a-52666bac7f7c",
   "metadata": {},
   "outputs": [
    {
     "name": "stdout",
     "output_type": "stream",
     "text": [
      "2.3.4\n"
     ]
    }
   ],
   "source": [
    "import numpy as np\n",
    "\n",
    "print(np.__version__)\n"
   ]
  },
  {
   "cell_type": "markdown",
   "id": "8b0a6da8-4713-42f5-9c45-f59d239fd5aa",
   "metadata": {},
   "source": [
    "Create random 100 data with seed(int) so that for now we get same random data.\n",
    "Create (100, 3) shape array."
   ]
  },
  {
   "cell_type": "code",
   "execution_count": 2,
   "id": "18b38f70-d672-43f2-8ae0-046342d73602",
   "metadata": {},
   "outputs": [
    {
     "data": {
      "text/plain": [
       "array([[    59,     34, 121906],\n",
       "       [    49,     39,  79811],\n",
       "       [    35,     21,  32811],\n",
       "       [    28,     26,  86250],\n",
       "       [    41,     34, 142547]], dtype=int32)"
      ]
     },
     "execution_count": 2,
     "metadata": {},
     "output_type": "execute_result"
    }
   ],
   "source": [
    "np.random.seed(42) \n",
    "\n",
    "ages = np.random.randint(21, 60, 100)\n",
    "experience = np.random.randint(0, 40, 100)\n",
    "salaries = np.random.randint(30000, 150000, 100)\n",
    "\n",
    "data = np.column_stack((ages, experience, salaries))\n",
    "data[:5]  \n"
   ]
  },
  {
   "cell_type": "code",
   "execution_count": 3,
   "id": "d4f28c94-824c-4334-9a94-839002e7f0c9",
   "metadata": {},
   "outputs": [
    {
     "name": "stdout",
     "output_type": "stream",
     "text": [
      "Shape: (100, 3)\n",
      "Data type: int32\n",
      "Dimensions: 2\n"
     ]
    }
   ],
   "source": [
    "print(\"Shape:\", data.shape)\n",
    "print(\"Data type:\", data.dtype)\n",
    "print(\"Dimensions:\", data.ndim)\n"
   ]
  },
  {
   "cell_type": "code",
   "execution_count": 4,
   "id": "318761c2-274f-4d82-8b56-ecb7a4a530ae",
   "metadata": {},
   "outputs": [
    {
     "name": "stdout",
     "output_type": "stream",
     "text": [
      "Average age: 39.43\n",
      "Median experience: 22.5\n",
      "Highest salary: 149181\n",
      "Salary standard deviation: 36883.45050029213\n"
     ]
    }
   ],
   "source": [
    "print(\"Average age:\", np.mean(data[:, 0]))\n",
    "print(\"Median experience:\", np.median(data[:, 1]))\n",
    "print(\"Highest salary:\", np.max(data[:, 2]))\n",
    "print(\"Salary standard deviation:\", np.std(data[:, 2]))\n"
   ]
  },
  {
   "cell_type": "markdown",
   "id": "bdcc6ca2-3945-4325-a773-9509a56175e7",
   "metadata": {},
   "source": [
    "now find the 40+ with top 5 highest salary"
   ]
  },
  {
   "cell_type": "code",
   "execution_count": 5,
   "id": "5a7500ca-21d9-4b2f-a8e6-a29845508fb5",
   "metadata": {},
   "outputs": [
    {
     "name": "stdout",
     "output_type": "stream",
     "text": [
      "Count: 22\n"
     ]
    },
    {
     "data": {
      "text/plain": [
       "array([[    59,     34, 121906],\n",
       "       [    41,     34, 142547],\n",
       "       [    59,      0, 102082],\n",
       "       [    43,     36, 125742],\n",
       "       [    44,     25, 113763]], dtype=int32)"
      ]
     },
     "execution_count": 5,
     "metadata": {},
     "output_type": "execute_result"
    }
   ],
   "source": [
    "high_paid = data[(data[:, 0] > 40) & (data[:, 2] > 100000)]\n",
    "print(\"Count:\", high_paid.shape[0])\n",
    "high_paid[:5]\n"
   ]
  },
  {
   "cell_type": "code",
   "execution_count": 6,
   "id": "1e853dcc-785f-4cb6-af29-75ac258c3793",
   "metadata": {},
   "outputs": [
    {
     "name": "stdout",
     "output_type": "stream",
     "text": [
      "[[ 1  2  3  4]\n",
      " [ 5  6  7  8]\n",
      " [ 9 10 11 12]]\n",
      "[[ 10  20  30  40]\n",
      " [ 50  60  70  80]\n",
      " [ 90 100 110 120]]\n",
      "Row sums: [10 26 42]\n",
      "Column sums: [15 18 21 24]\n"
     ]
    }
   ],
   "source": [
    "matrix = np.arange(1, 13).reshape(3, 4)\n",
    "print(matrix)\n",
    "\n",
    "print(matrix * 10)\n",
    "\n",
    "print(\"Row sums:\", matrix.sum(axis=1))\n",
    "print(\"Column sums:\", matrix.sum(axis=0))\n"
   ]
  },
  {
   "cell_type": "code",
   "execution_count": 7,
   "id": "bbf4b8d1-68dc-4de4-bc65-e32c2313b054",
   "metadata": {},
   "outputs": [
    {
     "name": "stdout",
     "output_type": "stream",
     "text": [
      "Correlation (Experience vs Salary): 0.043772650126399235\n"
     ]
    }
   ],
   "source": [
    "corr = np.corrcoef(data[:, 1], data[:, 2])[0, 1]\n",
    "print(\"Correlation (Experience vs Salary):\", corr)"
   ]
  },
  {
   "cell_type": "code",
   "execution_count": 8,
   "id": "548585b7-0004-45b8-9f1c-15f82f215ed0",
   "metadata": {},
   "outputs": [
    {
     "name": "stdout",
     "output_type": "stream",
     "text": [
      "(100, 3)\n"
     ]
    }
   ],
   "source": [
    "np.save('employee_data.npy', data)\n",
    "\n",
    "loaded = np.load('employee_data.npy')\n",
    "print(loaded.shape)\n"
   ]
  },
  {
   "cell_type": "code",
   "execution_count": null,
   "id": "a1eeae5f-08f1-449a-8c7c-f93d802592ac",
   "metadata": {},
   "outputs": [],
   "source": []
  }
 ],
 "metadata": {
  "kernelspec": {
   "display_name": "Python 3 (ipykernel)",
   "language": "python",
   "name": "python3"
  },
  "language_info": {
   "codemirror_mode": {
    "name": "ipython",
    "version": 3
   },
   "file_extension": ".py",
   "mimetype": "text/x-python",
   "name": "python",
   "nbconvert_exporter": "python",
   "pygments_lexer": "ipython3",
   "version": "3.13.2"
  }
 },
 "nbformat": 4,
 "nbformat_minor": 5
}
