{
 "cells": [
  {
   "cell_type": "code",
   "execution_count": 1,
   "id": "373caf42-9965-4bcd-ba0c-bdd2169e8448",
   "metadata": {},
   "outputs": [
    {
     "data": {
      "text/html": [
       "<div>\n",
       "<style scoped>\n",
       "    .dataframe tbody tr th:only-of-type {\n",
       "        vertical-align: middle;\n",
       "    }\n",
       "\n",
       "    .dataframe tbody tr th {\n",
       "        vertical-align: top;\n",
       "    }\n",
       "\n",
       "    .dataframe thead th {\n",
       "        text-align: right;\n",
       "    }\n",
       "</style>\n",
       "<table border=\"1\" class=\"dataframe\">\n",
       "  <thead>\n",
       "    <tr style=\"text-align: right;\">\n",
       "      <th></th>\n",
       "      <th>Age</th>\n",
       "      <th>Experience_Years</th>\n",
       "      <th>Gender_Male</th>\n",
       "      <th>City_Delhi</th>\n",
       "      <th>City_New York</th>\n",
       "      <th>Education_High School</th>\n",
       "      <th>Education_Masters</th>\n",
       "      <th>Salary</th>\n",
       "    </tr>\n",
       "  </thead>\n",
       "  <tbody>\n",
       "    <tr>\n",
       "      <th>0</th>\n",
       "      <td>22.0</td>\n",
       "      <td>5.0</td>\n",
       "      <td>1</td>\n",
       "      <td>0</td>\n",
       "      <td>1</td>\n",
       "      <td>0</td>\n",
       "      <td>1</td>\n",
       "      <td>50000.0</td>\n",
       "    </tr>\n",
       "    <tr>\n",
       "      <th>1</th>\n",
       "      <td>30.0</td>\n",
       "      <td>4.0</td>\n",
       "      <td>0</td>\n",
       "      <td>0</td>\n",
       "      <td>1</td>\n",
       "      <td>1</td>\n",
       "      <td>0</td>\n",
       "      <td>60000.0</td>\n",
       "    </tr>\n",
       "    <tr>\n",
       "      <th>2</th>\n",
       "      <td>25.0</td>\n",
       "      <td>7.0</td>\n",
       "      <td>0</td>\n",
       "      <td>1</td>\n",
       "      <td>0</td>\n",
       "      <td>1</td>\n",
       "      <td>0</td>\n",
       "      <td>50000.0</td>\n",
       "    </tr>\n",
       "    <tr>\n",
       "      <th>3</th>\n",
       "      <td>28.0</td>\n",
       "      <td>4.0</td>\n",
       "      <td>0</td>\n",
       "      <td>0</td>\n",
       "      <td>1</td>\n",
       "      <td>0</td>\n",
       "      <td>0</td>\n",
       "      <td>60000.0</td>\n",
       "    </tr>\n",
       "    <tr>\n",
       "      <th>4</th>\n",
       "      <td>40.0</td>\n",
       "      <td>3.0</td>\n",
       "      <td>1</td>\n",
       "      <td>0</td>\n",
       "      <td>1</td>\n",
       "      <td>0</td>\n",
       "      <td>1</td>\n",
       "      <td>50000.0</td>\n",
       "    </tr>\n",
       "  </tbody>\n",
       "</table>\n",
       "</div>"
      ],
      "text/plain": [
       "    Age  Experience_Years  Gender_Male  City_Delhi  City_New York  \\\n",
       "0  22.0               5.0            1           0              1   \n",
       "1  30.0               4.0            0           0              1   \n",
       "2  25.0               7.0            0           1              0   \n",
       "3  28.0               4.0            0           0              1   \n",
       "4  40.0               3.0            1           0              1   \n",
       "\n",
       "   Education_High School  Education_Masters   Salary  \n",
       "0                      0                  1  50000.0  \n",
       "1                      1                  0  60000.0  \n",
       "2                      1                  0  50000.0  \n",
       "3                      0                  0  60000.0  \n",
       "4                      0                  1  50000.0  "
      ]
     },
     "execution_count": 1,
     "metadata": {},
     "output_type": "execute_result"
    }
   ],
   "source": [
    "import pandas as pd\n",
    "import numpy as np\n",
    "\n",
    "df = pd.read_csv(\"cleaned_regression_data.csv\")  # the file you just downloaded\n",
    "df.head()\n"
   ]
  },
  {
   "cell_type": "code",
   "execution_count": 2,
   "id": "9531df24-0564-41f6-a0ab-2b8602d92330",
   "metadata": {},
   "outputs": [
    {
     "name": "stdout",
     "output_type": "stream",
     "text": [
      "<class 'pandas.core.frame.DataFrame'>\n",
      "RangeIndex: 100 entries, 0 to 99\n",
      "Data columns (total 8 columns):\n",
      " #   Column                 Non-Null Count  Dtype  \n",
      "---  ------                 --------------  -----  \n",
      " 0   Age                    100 non-null    float64\n",
      " 1   Experience_Years       100 non-null    float64\n",
      " 2   Gender_Male            100 non-null    int64  \n",
      " 3   City_Delhi             100 non-null    int64  \n",
      " 4   City_New York          100 non-null    int64  \n",
      " 5   Education_High School  100 non-null    int64  \n",
      " 6   Education_Masters      100 non-null    int64  \n",
      " 7   Salary                 100 non-null    float64\n",
      "dtypes: float64(3), int64(5)\n",
      "memory usage: 6.4 KB\n"
     ]
    },
    {
     "data": {
      "text/html": [
       "<div>\n",
       "<style scoped>\n",
       "    .dataframe tbody tr th:only-of-type {\n",
       "        vertical-align: middle;\n",
       "    }\n",
       "\n",
       "    .dataframe tbody tr th {\n",
       "        vertical-align: top;\n",
       "    }\n",
       "\n",
       "    .dataframe thead th {\n",
       "        text-align: right;\n",
       "    }\n",
       "</style>\n",
       "<table border=\"1\" class=\"dataframe\">\n",
       "  <thead>\n",
       "    <tr style=\"text-align: right;\">\n",
       "      <th></th>\n",
       "      <th>count</th>\n",
       "      <th>mean</th>\n",
       "      <th>std</th>\n",
       "      <th>min</th>\n",
       "      <th>25%</th>\n",
       "      <th>50%</th>\n",
       "      <th>75%</th>\n",
       "      <th>max</th>\n",
       "    </tr>\n",
       "  </thead>\n",
       "  <tbody>\n",
       "    <tr>\n",
       "      <th>Age</th>\n",
       "      <td>100.0</td>\n",
       "      <td>28.98</td>\n",
       "      <td>5.493761</td>\n",
       "      <td>22.0</td>\n",
       "      <td>25.0</td>\n",
       "      <td>28.0</td>\n",
       "      <td>35.0</td>\n",
       "      <td>40.0</td>\n",
       "    </tr>\n",
       "    <tr>\n",
       "      <th>Experience_Years</th>\n",
       "      <td>100.0</td>\n",
       "      <td>3.85</td>\n",
       "      <td>1.799972</td>\n",
       "      <td>1.0</td>\n",
       "      <td>2.0</td>\n",
       "      <td>4.0</td>\n",
       "      <td>5.0</td>\n",
       "      <td>7.0</td>\n",
       "    </tr>\n",
       "    <tr>\n",
       "      <th>Gender_Male</th>\n",
       "      <td>100.0</td>\n",
       "      <td>0.55</td>\n",
       "      <td>0.500000</td>\n",
       "      <td>0.0</td>\n",
       "      <td>0.0</td>\n",
       "      <td>1.0</td>\n",
       "      <td>1.0</td>\n",
       "      <td>1.0</td>\n",
       "    </tr>\n",
       "    <tr>\n",
       "      <th>City_Delhi</th>\n",
       "      <td>100.0</td>\n",
       "      <td>0.18</td>\n",
       "      <td>0.386123</td>\n",
       "      <td>0.0</td>\n",
       "      <td>0.0</td>\n",
       "      <td>0.0</td>\n",
       "      <td>0.0</td>\n",
       "      <td>1.0</td>\n",
       "    </tr>\n",
       "    <tr>\n",
       "      <th>City_New York</th>\n",
       "      <td>100.0</td>\n",
       "      <td>0.60</td>\n",
       "      <td>0.492366</td>\n",
       "      <td>0.0</td>\n",
       "      <td>0.0</td>\n",
       "      <td>1.0</td>\n",
       "      <td>1.0</td>\n",
       "      <td>1.0</td>\n",
       "    </tr>\n",
       "    <tr>\n",
       "      <th>Education_High School</th>\n",
       "      <td>100.0</td>\n",
       "      <td>0.20</td>\n",
       "      <td>0.402015</td>\n",
       "      <td>0.0</td>\n",
       "      <td>0.0</td>\n",
       "      <td>0.0</td>\n",
       "      <td>0.0</td>\n",
       "      <td>1.0</td>\n",
       "    </tr>\n",
       "    <tr>\n",
       "      <th>Education_Masters</th>\n",
       "      <td>100.0</td>\n",
       "      <td>0.24</td>\n",
       "      <td>0.429235</td>\n",
       "      <td>0.0</td>\n",
       "      <td>0.0</td>\n",
       "      <td>0.0</td>\n",
       "      <td>0.0</td>\n",
       "      <td>1.0</td>\n",
       "    </tr>\n",
       "    <tr>\n",
       "      <th>Salary</th>\n",
       "      <td>100.0</td>\n",
       "      <td>49700.00</td>\n",
       "      <td>14595.903673</td>\n",
       "      <td>30000.0</td>\n",
       "      <td>37500.0</td>\n",
       "      <td>50000.0</td>\n",
       "      <td>60000.0</td>\n",
       "      <td>70000.0</td>\n",
       "    </tr>\n",
       "  </tbody>\n",
       "</table>\n",
       "</div>"
      ],
      "text/plain": [
       "                       count      mean           std      min      25%  \\\n",
       "Age                    100.0     28.98      5.493761     22.0     25.0   \n",
       "Experience_Years       100.0      3.85      1.799972      1.0      2.0   \n",
       "Gender_Male            100.0      0.55      0.500000      0.0      0.0   \n",
       "City_Delhi             100.0      0.18      0.386123      0.0      0.0   \n",
       "City_New York          100.0      0.60      0.492366      0.0      0.0   \n",
       "Education_High School  100.0      0.20      0.402015      0.0      0.0   \n",
       "Education_Masters      100.0      0.24      0.429235      0.0      0.0   \n",
       "Salary                 100.0  49700.00  14595.903673  30000.0  37500.0   \n",
       "\n",
       "                           50%      75%      max  \n",
       "Age                       28.0     35.0     40.0  \n",
       "Experience_Years           4.0      5.0      7.0  \n",
       "Gender_Male                1.0      1.0      1.0  \n",
       "City_Delhi                 0.0      0.0      1.0  \n",
       "City_New York              1.0      1.0      1.0  \n",
       "Education_High School      0.0      0.0      1.0  \n",
       "Education_Masters          0.0      0.0      1.0  \n",
       "Salary                 50000.0  60000.0  70000.0  "
      ]
     },
     "execution_count": 2,
     "metadata": {},
     "output_type": "execute_result"
    }
   ],
   "source": [
    "df.shape\n",
    "df.info()\n",
    "df.describe().T\n"
   ]
  },
  {
   "cell_type": "code",
   "execution_count": 3,
   "id": "b705b2db-0bb7-4b8d-ae55-8074282937d8",
   "metadata": {},
   "outputs": [
    {
     "data": {
      "text/plain": [
       "Age                      0\n",
       "Experience_Years         0\n",
       "Gender_Male              0\n",
       "City_Delhi               0\n",
       "City_New York            0\n",
       "Education_High School    0\n",
       "Education_Masters        0\n",
       "Salary                   0\n",
       "dtype: int64"
      ]
     },
     "execution_count": 3,
     "metadata": {},
     "output_type": "execute_result"
    }
   ],
   "source": [
    "df.isnull().sum()\n"
   ]
  },
  {
   "cell_type": "code",
   "execution_count": 4,
   "id": "3d2a3ca8-4532-43a2-aede-e46ffeb084f8",
   "metadata": {},
   "outputs": [
    {
     "data": {
      "text/plain": [
       "['Age',\n",
       " 'Experience_Years',\n",
       " 'Gender_Male',\n",
       " 'City_Delhi',\n",
       " 'City_New York',\n",
       " 'Education_High School',\n",
       " 'Education_Masters',\n",
       " 'Salary']"
      ]
     },
     "execution_count": 4,
     "metadata": {},
     "output_type": "execute_result"
    }
   ],
   "source": [
    "df.columns.tolist()\n"
   ]
  },
  {
   "cell_type": "code",
   "execution_count": 5,
   "id": "a90f47c9-0ede-4875-9c10-a9ce36f3013d",
   "metadata": {},
   "outputs": [],
   "source": [
    "X = df.drop(columns=['Salary'])\n",
    "y = df['Salary']\n"
   ]
  },
  {
   "cell_type": "code",
   "execution_count": 8,
   "id": "354cfb96-3f6a-4009-9924-6aff6dbe7211",
   "metadata": {},
   "outputs": [],
   "source": [
    "from sklearn.model_selection import train_test_split\n",
    "X_train, X_test, y_train, y_test = train_test_split(X, y, test_size=0.2, random_state=42)\n"
   ]
  },
  {
   "cell_type": "code",
   "execution_count": 9,
   "id": "2d9bfab8-639b-444d-963f-08282e3406d4",
   "metadata": {},
   "outputs": [],
   "source": [
    "from sklearn.linear_model import LinearRegression\n",
    "lr = LinearRegression()\n",
    "lr.fit(X_train, y_train)\n",
    "y_pred_lr = lr.predict(X_test)\n"
   ]
  },
  {
   "cell_type": "code",
   "execution_count": 10,
   "id": "2e96b923-48f6-454b-b064-cb983d893f16",
   "metadata": {},
   "outputs": [],
   "source": [
    "from sklearn.ensemble import RandomForestRegressor\n",
    "rf = RandomForestRegressor(n_estimators=100, random_state=42)\n",
    "rf.fit(X_train, y_train)\n",
    "y_pred_rf = rf.predict(X_test)\n"
   ]
  },
  {
   "cell_type": "code",
   "execution_count": 11,
   "id": "23c79047-067d-40a8-bfa8-cf12dec1219f",
   "metadata": {},
   "outputs": [
    {
     "name": "stdout",
     "output_type": "stream",
     "text": [
      "Linear Regression: {'MAE': 14976.064951361017, 'MSE': 274525069.54418176, 'RMSE': np.float64(16568.79807180297), 'R2': -0.07762539565920235}\n",
      "Random Forest: {'MAE': 15500.708333333334, 'MSE': 299604778.7847222, 'RMSE': np.float64(17309.095261876693), 'R2': -0.1760737145622071}\n"
     ]
    }
   ],
   "source": [
    "from sklearn.metrics import mean_absolute_error, mean_squared_error, r2_score\n",
    "def regression_metrics(y_true, y_pred):\n",
    "    mae = mean_absolute_error(y_true, y_pred)\n",
    "    mse = mean_squared_error(y_true, y_pred)\n",
    "    rmse = np.sqrt(mse)\n",
    "    r2 = r2_score(y_true, y_pred)\n",
    "    return {'MAE': mae, 'MSE': mse, 'RMSE': rmse, 'R2': r2}\n",
    "\n",
    "metrics_lr = regression_metrics(y_test, y_pred_lr)\n",
    "metrics_rf = regression_metrics(y_test, y_pred_rf)\n",
    "\n",
    "print(\"Linear Regression:\", metrics_lr)\n",
    "print(\"Random Forest:\", metrics_rf)\n"
   ]
  },
  {
   "cell_type": "code",
   "execution_count": 12,
   "id": "30793a60-d58c-4195-938d-2d117f06d602",
   "metadata": {},
   "outputs": [
    {
     "data": {
      "text/html": [
       "<div>\n",
       "<style scoped>\n",
       "    .dataframe tbody tr th:only-of-type {\n",
       "        vertical-align: middle;\n",
       "    }\n",
       "\n",
       "    .dataframe tbody tr th {\n",
       "        vertical-align: top;\n",
       "    }\n",
       "\n",
       "    .dataframe thead th {\n",
       "        text-align: right;\n",
       "    }\n",
       "</style>\n",
       "<table border=\"1\" class=\"dataframe\">\n",
       "  <thead>\n",
       "    <tr style=\"text-align: right;\">\n",
       "      <th></th>\n",
       "      <th>Actual</th>\n",
       "      <th>Pred_LR</th>\n",
       "      <th>Pred_RF</th>\n",
       "    </tr>\n",
       "  </thead>\n",
       "  <tbody>\n",
       "    <tr>\n",
       "      <th>83</th>\n",
       "      <td>50000.0</td>\n",
       "      <td>40601.406625</td>\n",
       "      <td>47697.500000</td>\n",
       "    </tr>\n",
       "    <tr>\n",
       "      <th>53</th>\n",
       "      <td>60000.0</td>\n",
       "      <td>42035.252354</td>\n",
       "      <td>45100.000000</td>\n",
       "    </tr>\n",
       "    <tr>\n",
       "      <th>70</th>\n",
       "      <td>30000.0</td>\n",
       "      <td>51125.548710</td>\n",
       "      <td>54260.000000</td>\n",
       "    </tr>\n",
       "    <tr>\n",
       "      <th>45</th>\n",
       "      <td>70000.0</td>\n",
       "      <td>53371.658310</td>\n",
       "      <td>45600.000000</td>\n",
       "    </tr>\n",
       "    <tr>\n",
       "      <th>44</th>\n",
       "      <td>40000.0</td>\n",
       "      <td>51816.262029</td>\n",
       "      <td>50791.666667</td>\n",
       "    </tr>\n",
       "    <tr>\n",
       "      <th>39</th>\n",
       "      <td>70000.0</td>\n",
       "      <td>47901.852110</td>\n",
       "      <td>60450.000000</td>\n",
       "    </tr>\n",
       "    <tr>\n",
       "      <th>22</th>\n",
       "      <td>60000.0</td>\n",
       "      <td>43475.296315</td>\n",
       "      <td>51840.000000</td>\n",
       "    </tr>\n",
       "    <tr>\n",
       "      <th>80</th>\n",
       "      <td>30000.0</td>\n",
       "      <td>52354.235981</td>\n",
       "      <td>54468.333333</td>\n",
       "    </tr>\n",
       "    <tr>\n",
       "      <th>10</th>\n",
       "      <td>30000.0</td>\n",
       "      <td>53929.138648</td>\n",
       "      <td>46325.000000</td>\n",
       "    </tr>\n",
       "    <tr>\n",
       "      <th>0</th>\n",
       "      <td>50000.0</td>\n",
       "      <td>52330.522324</td>\n",
       "      <td>57235.000000</td>\n",
       "    </tr>\n",
       "  </tbody>\n",
       "</table>\n",
       "</div>"
      ],
      "text/plain": [
       "     Actual       Pred_LR       Pred_RF\n",
       "83  50000.0  40601.406625  47697.500000\n",
       "53  60000.0  42035.252354  45100.000000\n",
       "70  30000.0  51125.548710  54260.000000\n",
       "45  70000.0  53371.658310  45600.000000\n",
       "44  40000.0  51816.262029  50791.666667\n",
       "39  70000.0  47901.852110  60450.000000\n",
       "22  60000.0  43475.296315  51840.000000\n",
       "80  30000.0  52354.235981  54468.333333\n",
       "10  30000.0  53929.138648  46325.000000\n",
       "0   50000.0  52330.522324  57235.000000"
      ]
     },
     "execution_count": 12,
     "metadata": {},
     "output_type": "execute_result"
    }
   ],
   "source": [
    "comp = X_test.copy()\n",
    "comp['Actual'] = y_test.values\n",
    "comp['Pred_LR'] = y_pred_lr\n",
    "comp['Pred_RF'] = y_pred_rf\n",
    "comp[['Actual','Pred_LR','Pred_RF']].head(10)\n"
   ]
  },
  {
   "cell_type": "code",
   "execution_count": 13,
   "id": "edbb226c-881b-44d8-bba1-e98c072583c7",
   "metadata": {},
   "outputs": [
    {
     "data": {
      "text/plain": [
       "Age                      0.297256\n",
       "Experience_Years         0.284334\n",
       "City_New York            0.105196\n",
       "Gender_Male              0.095955\n",
       "Education_Masters        0.089010\n",
       "Education_High School    0.067773\n",
       "City_Delhi               0.060475\n",
       "dtype: float64"
      ]
     },
     "execution_count": 13,
     "metadata": {},
     "output_type": "execute_result"
    }
   ],
   "source": [
    "importances = rf.feature_importances_\n",
    "feat_imp = pd.Series(importances, index=X.columns).sort_values(ascending=False)\n",
    "feat_imp\n"
   ]
  },
  {
   "cell_type": "code",
   "execution_count": 14,
   "id": "c462862d-3f1c-42a1-afff-d3459cc0a5e2",
   "metadata": {},
   "outputs": [
    {
     "data": {
      "text/plain": [
       "['rf_salary_model.joblib']"
      ]
     },
     "execution_count": 14,
     "metadata": {},
     "output_type": "execute_result"
    }
   ],
   "source": [
    "import joblib\n",
    "joblib.dump(rf, \"rf_salary_model.joblib\")\n"
   ]
  },
  {
   "cell_type": "code",
   "execution_count": null,
   "id": "d952dfe3-c3c5-4afc-9791-6a5f1346df0f",
   "metadata": {},
   "outputs": [],
   "source": []
  }
 ],
 "metadata": {
  "kernelspec": {
   "display_name": "Python 3 (ipykernel)",
   "language": "python",
   "name": "python3"
  },
  "language_info": {
   "codemirror_mode": {
    "name": "ipython",
    "version": 3
   },
   "file_extension": ".py",
   "mimetype": "text/x-python",
   "name": "python",
   "nbconvert_exporter": "python",
   "pygments_lexer": "ipython3",
   "version": "3.13.2"
  }
 },
 "nbformat": 4,
 "nbformat_minor": 5
}
